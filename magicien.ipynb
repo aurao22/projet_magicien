{
 "cells": [
  {
   "cell_type": "markdown",
   "metadata": {},
   "source": [
    "<div style=\"display: flex; background-color: RGB(255,114,0);\" >\n",
    "\n",
    "# Furious Games Development\n",
    "</div>"
   ]
  },
  {
   "cell_type": "markdown",
   "metadata": {},
   "source": [
    "<div style=\"display: flex; background-color: Blue; padding: 15px;\" >\n",
    "\n",
    "## 1.Mission \n",
    "</div>\n",
    "\n",
    "<div style=\"display: flex; background-color: Green; padding: 7px;\" >\n",
    "\n",
    "### 1.1. Création d’une base de donnée pour un jeu vidéo\n",
    "</div>\n",
    "\n",
    "L’entreprise FuriousGames qui vous a embauché souhaite développer un nouveau jeu en ligne <mark>multijoueur</mark> dans un monde médiéval fantastique.\n",
    "Avant toute chose, la direction a décidé de faire un premier prototype du jeu afin d’en évaluer les potentialités.\n",
    "Dans cette optique, votre équipe a été chargée de développer un premier modèle de base de données sur lequel s’appuiera le programme.\n",
    "\n",
    "Voici les éléments de description du <mark>jeu</mark> qui vous sont fournis:\n",
    "\n",
    "Dans le monde Ethera, <mark>chaque joueur contrôle une petite équipe d’aventuriers magiciens</mark> dont on pourra suivre une <mark>jauge de vie</mark> et une <mark>jauge points de magie</mark>. Les aventuriers magiciens évoluent sur différents <mark>types de terrains</mark>. Les <mark>sorts</mark> qu’ils peuvent utiliser <mark>dépendent du type de terrain</mark> sur lequel ils se trouvent. Plusieurs terrains peuvent être d’un même type (ex montagne).\n",
    "\n",
    "Chaque joueur peut apprendre au fur et à mesure du jeu des sorts qui peuvent être de <mark>simples formules</mark> ou des <mark>sorts qui se basent sur un objet (artefact)</mark> pour fonctionner. L’usage d’un <mark>sort</mark> par un personnage diminue sa <mark>jauge de magie</mark>.\n",
    "\n",
    "Chaque personnage peut emmener avec lui un <mark>équipement limité (nourriture et artefacts)</mark> qui peut être augmenté avec différents <mark>types de sacs</mark>. La jauge de vie d’un personnage diminue s’il n’a pas assez de nourriture ou s’il est soumis à des sorts adverses.\n",
    "\n",
    "Les jauges de vie et de magie peuvent augmenter dans certains cas de figure qui seront déterminés par la suite.\n",
    "Le but est de créer une première base de données MySQL avec des données types qui serviront lors des développements.\n"
   ]
  },
  {
   "cell_type": "markdown",
   "metadata": {},
   "source": [
    "3 étapes :\n",
    "1. Modéliser la base de données (format merise)\n",
    "2. Créer la base de données sous MySQL (script de création de base)\n",
    "3. Peupler la base de données avec des données utilisables pour les développements futurs\n"
   ]
  },
  {
   "cell_type": "markdown",
   "metadata": {},
   "source": [
    "<div style=\"display: flex; background-color: Green; padding: 7px;\" >\n",
    "\n",
    "### 1.2. Peuplement de la base et premières requêtes\n",
    "</div>\n",
    "\n",
    "Liste des éléments du jeu à inventer :\n",
    "- Joueur\n",
    "- Aventurier-magicien\n",
    "- Terrain\n",
    "- Sort\n",
    "- Objet\n",
    "- Artefact\n",
    "- Nourriture\n",
    "\n",
    "Peupler la base de données avec suffisamment d’éléments pour prendre en compte un maximum de combinaisons possibles.\n",
    "\n",
    "Quelques requêtes à écrire pour évaluer l’utilisation possible de la base de données :\n",
    "1. Afficher un joueur avec tous ses personnages\n",
    "2. Vérifier si un personnage a de la nourriture avec lui\n",
    "3. Afficher un personnage avec la liste de sorts qu’il connaît\n",
    "4. Afficher un personnage avec la liste de <mark>sorts qu’il connaît qui dépendent d’artefacts</mark>\n",
    "qu’il possède\n",
    "5. Dire quels sorts peut utiliser un personnage en fonction du terrain où il se trouve\n",
    "6. Essayer d’ajouter un objet à un personnage qui est déjà à son <mark>maximum d’objets</mark>\n",
    "emportés"
   ]
  },
  {
   "cell_type": "code",
   "execution_count": null,
   "metadata": {},
   "outputs": [],
   "source": []
  }
 ],
 "metadata": {
  "interpreter": {
   "hash": "ac59ebe37160ed0dfa835113d9b8498d9f09ceb179beaac4002f036b9467c963"
  },
  "kernelspec": {
   "display_name": "Python 3.9.10 64-bit",
   "language": "python",
   "name": "python3"
  },
  "language_info": {
   "name": "python",
   "version": "3.9.10"
  },
  "orig_nbformat": 4
 },
 "nbformat": 4,
 "nbformat_minor": 2
}
